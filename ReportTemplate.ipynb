{
 "cells": [
  {
   "cell_type": "markdown",
   "metadata": {},
   "source": [
    "# INFO-F-422 -  Statistical Foundations of Machine Learning \n",
    "\n",
    "### Student 1 - [johan.gjini@ulb.ac.be](mailto:student1@ulb.ac.be) - Student ID 000480821\n",
    "### Student 2 - [lucas.weinberg@vub.ac.be](mailto:student2@ulb.ac.be) - Student ID 000400966\n",
    "### Student 3 - [lionel.delchambre@ulb.ac.be](mailto:student3@ulb.ac.be) - Student ID 000336430\n",
    "\n",
    "### Video presentation: www.youtube.com/abcd1234\n",
    "\n",
    "## Project Title\n"
   ]
  },
  {
   "cell_type": "markdown",
   "metadata": {},
   "source": [
    "# Introduction\n"
   ]
  },
  {
   "cell_type": "markdown",
   "metadata": {},
   "source": [
    "# 1. Data preprocessing\n",
    "\n",
    "\n",
    "### 1.1 Loading the data"
   ]
  },
  {
   "cell_type": "code",
   "execution_count": 2,
   "metadata": {
    "pycharm": {
     "name": "#%%\n"
    }
   },
   "outputs": [
    {
     "name": "stderr",
     "output_type": "stream",
     "text": [
      "\n",
      "Attachement du package : ‘dplyr’\n",
      "\n",
      "\n",
      "Les objets suivants sont masqués depuis ‘package:stats’:\n",
      "\n",
      "    filter, lag\n",
      "\n",
      "\n",
      "Les objets suivants sont masqués depuis ‘package:base’:\n",
      "\n",
      "    intersect, setdiff, setequal, union\n",
      "\n",
      "\n",
      "\n",
      "Attachement du package : ‘tidyr’\n",
      "\n",
      "\n",
      "L'objet suivant est masqué depuis ‘package:reshape2’:\n",
      "\n",
      "    smiths\n",
      "\n",
      "\n",
      "\u001B[1m\u001B[22mJoining, by = \"respondent_id\"\n"
     ]
    }
   ],
   "source": [
    "library(fastDummies)\n",
    "library(reshape2)\n",
    "library(dplyr)\n",
    "library(tibble)\n",
    "library(ggplot2)\n",
    "library(tidyr)\n",
    "\n",
    "\n",
    "test_set=read.csv(\"test_set_features.csv\",header=TRUE)                \n",
    "training_label=read.csv(\"training_set_labels.csv\",header=TRUE)\n",
    "training_feature=read.csv(\"training_set_features.csv\",header=TRUE)  \n",
    "\n",
    "submission=read.csv(\"submission_format.csv\",header = TRUE)\n",
    "\n",
    "feature_df<-dplyr::tibble(training_feature)\n",
    "labels_df<-dplyr::tibble(training_label)\n",
    "training_df<-dplyr::inner_join(feature_df,labels_df)"
   ]
  },
  {
   "cell_type": "markdown",
   "metadata": {
    "pycharm": {
     "name": "#%% md\n"
    }
   },
   "source": [
    "Checking the data"
   ]
  },
  {
   "cell_type": "code",
   "execution_count": 3,
   "metadata": {},
   "outputs": [
    {
     "data": {
      "text/html": [
       "<style>\n",
       ".list-inline {list-style: none; margin:0; padding: 0}\n",
       ".list-inline>li {display: inline-block}\n",
       ".list-inline>li:not(:last-child)::after {content: \"\\00b7\"; padding: 0 .5ex}\n",
       "</style>\n",
       "<ol class=list-inline><li>26707</li><li>38</li></ol>\n"
      ],
      "text/latex": [
       "\\begin{enumerate*}\n",
       "\\item 26707\n",
       "\\item 38\n",
       "\\end{enumerate*}\n"
      ],
      "text/markdown": [
       "1. 26707\n",
       "2. 38\n",
       "\n",
       "\n"
      ],
      "text/plain": [
       "[1] 26707    38"
      ]
     },
     "metadata": {},
     "output_type": "display_data"
    }
   ],
   "source": [
    "dim(training_df)\n",
    "#summary(training_df)\n"
   ]
  },
  {
   "cell_type": "markdown",
   "metadata": {
    "pycharm": {
     "name": "#%% md\n"
    }
   },
   "source": [
    "Our training set is composed of 20707 rows and 38 variables (37 without id).\n"
   ]
  },
  {
   "cell_type": "code",
   "execution_count": 4,
   "metadata": {},
   "outputs": [],
   "source": [
    "category_list=c()\n",
    "not_category=c()\n",
    "for (feature in colnames(training_df)){\n",
    "  if (typeof(training_df[feature][[1]])==\"character\"){\n",
    "    category_list<-c(category_list,feature)\n",
    "  }\n",
    "  else{\n",
    "    not_category<-c(not_category, feature)  \n",
    "  }    \n",
    "}\n",
    "\n",
    "not_category <- not_category[not_category!=\"respondent_id\"]\n",
    "all_features=c(category_list, not_category)\n",
    "\n",
    "dummy_df <- training_df\n",
    "\n",
    "#all_features"
   ]
  },
  {
   "cell_type": "code",
   "execution_count": 5,
   "metadata": {},
   "outputs": [],
   "source": [
    "\n",
    "#replace empty strings by NA\n",
    "\n",
    "for (col in category_list){\n",
    "    dummy_df[,col][dummy_df[,col] == \"\"] <- NA\n",
    "}\n",
    "\n",
    "Mode <- function(x){\n",
    "  #convert NA to most common value\n",
    "  distinct_value <- unique(x[!is.na(x)])\n",
    "\n",
    "  distinct_value[which.max(tabulate(match(x, distinct_value)))]\n",
    "}\n",
    "\n",
    "\n",
    "\n"
   ]
  },
  {
   "cell_type": "code",
   "execution_count": 6,
   "metadata": {
    "pycharm": {
     "name": "#%%\n"
    }
   },
   "outputs": [
    {
     "data": {
      "text/html": [
       "<table class=\"dataframe\">\n",
       "<caption>A tibble: 6 × 38</caption>\n",
       "<thead>\n",
       "\t<tr><th scope=col>respondent_id</th><th scope=col>h1n1_concern</th><th scope=col>h1n1_knowledge</th><th scope=col>behavioral_antiviral_meds</th><th scope=col>behavioral_avoidance</th><th scope=col>behavioral_face_mask</th><th scope=col>behavioral_wash_hands</th><th scope=col>behavioral_large_gatherings</th><th scope=col>behavioral_outside_home</th><th scope=col>behavioral_touch_face</th><th scope=col>⋯</th><th scope=col>rent_or_own</th><th scope=col>employment_status</th><th scope=col>hhs_geo_region</th><th scope=col>census_msa</th><th scope=col>household_adults</th><th scope=col>household_children</th><th scope=col>employment_industry</th><th scope=col>employment_occupation</th><th scope=col>h1n1_vaccine</th><th scope=col>seasonal_vaccine</th></tr>\n",
       "\t<tr><th scope=col>&lt;int&gt;</th><th scope=col>&lt;int&gt;</th><th scope=col>&lt;int&gt;</th><th scope=col>&lt;int&gt;</th><th scope=col>&lt;int&gt;</th><th scope=col>&lt;int&gt;</th><th scope=col>&lt;int&gt;</th><th scope=col>&lt;int&gt;</th><th scope=col>&lt;int&gt;</th><th scope=col>&lt;int&gt;</th><th scope=col>⋯</th><th scope=col>&lt;int&gt;</th><th scope=col>&lt;int&gt;</th><th scope=col>&lt;int&gt;</th><th scope=col>&lt;int&gt;</th><th scope=col>&lt;int&gt;</th><th scope=col>&lt;int&gt;</th><th scope=col>&lt;int&gt;</th><th scope=col>&lt;int&gt;</th><th scope=col>&lt;int&gt;</th><th scope=col>&lt;int&gt;</th></tr>\n",
       "</thead>\n",
       "<tbody>\n",
       "\t<tr><td>0</td><td>1</td><td>0</td><td>0</td><td>0</td><td>0</td><td>0</td><td>0</td><td>1</td><td>1</td><td>⋯</td><td>1</td><td>2</td><td> 9</td><td>3</td><td>0</td><td>0</td><td>13</td><td>20</td><td>0</td><td>0</td></tr>\n",
       "\t<tr><td>1</td><td>3</td><td>2</td><td>0</td><td>1</td><td>0</td><td>1</td><td>0</td><td>1</td><td>1</td><td>⋯</td><td>2</td><td>1</td><td> 2</td><td>1</td><td>0</td><td>0</td><td>13</td><td>20</td><td>0</td><td>1</td></tr>\n",
       "\t<tr><td>2</td><td>1</td><td>1</td><td>0</td><td>1</td><td>0</td><td>0</td><td>0</td><td>0</td><td>0</td><td>⋯</td><td>1</td><td>1</td><td>10</td><td>1</td><td>2</td><td>0</td><td>15</td><td>22</td><td>0</td><td>0</td></tr>\n",
       "\t<tr><td>3</td><td>1</td><td>1</td><td>0</td><td>1</td><td>0</td><td>1</td><td>1</td><td>0</td><td>0</td><td>⋯</td><td>2</td><td>2</td><td> 6</td><td>2</td><td>0</td><td>0</td><td>13</td><td>20</td><td>0</td><td>1</td></tr>\n",
       "\t<tr><td>4</td><td>2</td><td>1</td><td>0</td><td>1</td><td>0</td><td>1</td><td>1</td><td>0</td><td>1</td><td>⋯</td><td>1</td><td>1</td><td>10</td><td>1</td><td>1</td><td>0</td><td>19</td><td> 6</td><td>0</td><td>0</td></tr>\n",
       "\t<tr><td>5</td><td>3</td><td>1</td><td>0</td><td>1</td><td>0</td><td>1</td><td>0</td><td>0</td><td>1</td><td>⋯</td><td>1</td><td>1</td><td> 1</td><td>2</td><td>2</td><td>3</td><td>16</td><td>19</td><td>0</td><td>0</td></tr>\n",
       "</tbody>\n",
       "</table>\n"
      ],
      "text/latex": [
       "A tibble: 6 × 38\n",
       "\\begin{tabular}{lllllllllllllllllllll}\n",
       " respondent\\_id & h1n1\\_concern & h1n1\\_knowledge & behavioral\\_antiviral\\_meds & behavioral\\_avoidance & behavioral\\_face\\_mask & behavioral\\_wash\\_hands & behavioral\\_large\\_gatherings & behavioral\\_outside\\_home & behavioral\\_touch\\_face & ⋯ & rent\\_or\\_own & employment\\_status & hhs\\_geo\\_region & census\\_msa & household\\_adults & household\\_children & employment\\_industry & employment\\_occupation & h1n1\\_vaccine & seasonal\\_vaccine\\\\\n",
       " <int> & <int> & <int> & <int> & <int> & <int> & <int> & <int> & <int> & <int> & ⋯ & <int> & <int> & <int> & <int> & <int> & <int> & <int> & <int> & <int> & <int>\\\\\n",
       "\\hline\n",
       "\t 0 & 1 & 0 & 0 & 0 & 0 & 0 & 0 & 1 & 1 & ⋯ & 1 & 2 &  9 & 3 & 0 & 0 & 13 & 20 & 0 & 0\\\\\n",
       "\t 1 & 3 & 2 & 0 & 1 & 0 & 1 & 0 & 1 & 1 & ⋯ & 2 & 1 &  2 & 1 & 0 & 0 & 13 & 20 & 0 & 1\\\\\n",
       "\t 2 & 1 & 1 & 0 & 1 & 0 & 0 & 0 & 0 & 0 & ⋯ & 1 & 1 & 10 & 1 & 2 & 0 & 15 & 22 & 0 & 0\\\\\n",
       "\t 3 & 1 & 1 & 0 & 1 & 0 & 1 & 1 & 0 & 0 & ⋯ & 2 & 2 &  6 & 2 & 0 & 0 & 13 & 20 & 0 & 1\\\\\n",
       "\t 4 & 2 & 1 & 0 & 1 & 0 & 1 & 1 & 0 & 1 & ⋯ & 1 & 1 & 10 & 1 & 1 & 0 & 19 &  6 & 0 & 0\\\\\n",
       "\t 5 & 3 & 1 & 0 & 1 & 0 & 1 & 0 & 0 & 1 & ⋯ & 1 & 1 &  1 & 2 & 2 & 3 & 16 & 19 & 0 & 0\\\\\n",
       "\\end{tabular}\n"
      ],
      "text/markdown": [
       "\n",
       "A tibble: 6 × 38\n",
       "\n",
       "| respondent_id &lt;int&gt; | h1n1_concern &lt;int&gt; | h1n1_knowledge &lt;int&gt; | behavioral_antiviral_meds &lt;int&gt; | behavioral_avoidance &lt;int&gt; | behavioral_face_mask &lt;int&gt; | behavioral_wash_hands &lt;int&gt; | behavioral_large_gatherings &lt;int&gt; | behavioral_outside_home &lt;int&gt; | behavioral_touch_face &lt;int&gt; | ⋯ ⋯ | rent_or_own &lt;int&gt; | employment_status &lt;int&gt; | hhs_geo_region &lt;int&gt; | census_msa &lt;int&gt; | household_adults &lt;int&gt; | household_children &lt;int&gt; | employment_industry &lt;int&gt; | employment_occupation &lt;int&gt; | h1n1_vaccine &lt;int&gt; | seasonal_vaccine &lt;int&gt; |\n",
       "|---|---|---|---|---|---|---|---|---|---|---|---|---|---|---|---|---|---|---|---|---|\n",
       "| 0 | 1 | 0 | 0 | 0 | 0 | 0 | 0 | 1 | 1 | ⋯ | 1 | 2 |  9 | 3 | 0 | 0 | 13 | 20 | 0 | 0 |\n",
       "| 1 | 3 | 2 | 0 | 1 | 0 | 1 | 0 | 1 | 1 | ⋯ | 2 | 1 |  2 | 1 | 0 | 0 | 13 | 20 | 0 | 1 |\n",
       "| 2 | 1 | 1 | 0 | 1 | 0 | 0 | 0 | 0 | 0 | ⋯ | 1 | 1 | 10 | 1 | 2 | 0 | 15 | 22 | 0 | 0 |\n",
       "| 3 | 1 | 1 | 0 | 1 | 0 | 1 | 1 | 0 | 0 | ⋯ | 2 | 2 |  6 | 2 | 0 | 0 | 13 | 20 | 0 | 1 |\n",
       "| 4 | 2 | 1 | 0 | 1 | 0 | 1 | 1 | 0 | 1 | ⋯ | 1 | 1 | 10 | 1 | 1 | 0 | 19 |  6 | 0 | 0 |\n",
       "| 5 | 3 | 1 | 0 | 1 | 0 | 1 | 0 | 0 | 1 | ⋯ | 1 | 1 |  1 | 2 | 2 | 3 | 16 | 19 | 0 | 0 |\n",
       "\n"
      ],
      "text/plain": [
       "  respondent_id h1n1_concern h1n1_knowledge behavioral_antiviral_meds\n",
       "1 0             1            0              0                        \n",
       "2 1             3            2              0                        \n",
       "3 2             1            1              0                        \n",
       "4 3             1            1              0                        \n",
       "5 4             2            1              0                        \n",
       "6 5             3            1              0                        \n",
       "  behavioral_avoidance behavioral_face_mask behavioral_wash_hands\n",
       "1 0                    0                    0                    \n",
       "2 1                    0                    1                    \n",
       "3 1                    0                    0                    \n",
       "4 1                    0                    1                    \n",
       "5 1                    0                    1                    \n",
       "6 1                    0                    1                    \n",
       "  behavioral_large_gatherings behavioral_outside_home behavioral_touch_face ⋯\n",
       "1 0                           1                       1                     ⋯\n",
       "2 0                           1                       1                     ⋯\n",
       "3 0                           0                       0                     ⋯\n",
       "4 1                           0                       0                     ⋯\n",
       "5 1                           0                       1                     ⋯\n",
       "6 0                           0                       1                     ⋯\n",
       "  rent_or_own employment_status hhs_geo_region census_msa household_adults\n",
       "1 1           2                  9             3          0               \n",
       "2 2           1                  2             1          0               \n",
       "3 1           1                 10             1          2               \n",
       "4 2           2                  6             2          0               \n",
       "5 1           1                 10             1          1               \n",
       "6 1           1                  1             2          2               \n",
       "  household_children employment_industry employment_occupation h1n1_vaccine\n",
       "1 0                  13                  20                    0           \n",
       "2 0                  13                  20                    0           \n",
       "3 0                  15                  22                    0           \n",
       "4 0                  13                  20                    0           \n",
       "5 0                  19                   6                    0           \n",
       "6 3                  16                  19                    0           \n",
       "  seasonal_vaccine\n",
       "1 0               \n",
       "2 1               \n",
       "3 0               \n",
       "4 1               \n",
       "5 0               \n",
       "6 0               "
      ]
     },
     "metadata": {},
     "output_type": "display_data"
    }
   ],
   "source": [
    "#convert categorical to numerical\n",
    "for (c in category_list){\n",
    "    \n",
    "    dummy_df[[c]] <- unclass(factor(dummy_df[[c]]))\n",
    "}\n",
    "\n",
    "for (col in category_list){\n",
    "    dummy_df[,col][is.na(dummy_df[,col])] <- Mode(dummy_df[,col])\n",
    "}\n",
    "\n",
    "\n",
    "\n",
    "head(dummy_df)\n",
    "\n"
   ]
  },
  {
   "cell_type": "code",
   "execution_count": 7,
   "metadata": {},
   "outputs": [
    {
     "data": {
      "text/plain": [
       "   age_group       education          race           sex        income_poverty \n",
       " Min.   :1.000   Min.   :1.000   Min.   :1.00   Min.   :1.000   Min.   :1.000  \n",
       " 1st Qu.:2.000   1st Qu.:2.000   1st Qu.:4.00   1st Qu.:1.000   1st Qu.:1.000  \n",
       " Median :3.000   Median :3.000   Median :4.00   Median :1.000   Median :2.000  \n",
       " Mean   :3.186   Mean   :2.764   Mean   :3.57   Mean   :1.406   Mean   :1.788  \n",
       " 3rd Qu.:5.000   3rd Qu.:4.000   3rd Qu.:4.00   3rd Qu.:2.000   3rd Qu.:3.000  \n",
       " Max.   :5.000   Max.   :4.000   Max.   :4.00   Max.   :2.000   Max.   :3.000  \n",
       "                                                                               \n",
       " marital_status   rent_or_own    employment_status hhs_geo_region \n",
       " Min.   :1.000   Min.   :1.000   Min.   :1.000     Min.   : 1.00  \n",
       " 1st Qu.:1.000   1st Qu.:1.000   1st Qu.:1.000     1st Qu.: 4.00  \n",
       " Median :1.000   Median :1.000   Median :1.000     Median : 6.00  \n",
       " Mean   :1.492   Mean   :1.222   Mean   :1.547     Mean   : 5.83  \n",
       " 3rd Qu.:2.000   3rd Qu.:1.000   3rd Qu.:2.000     3rd Qu.: 8.00  \n",
       " Max.   :2.000   Max.   :2.000   Max.   :3.000     Max.   :10.00  \n",
       "                                                                  \n",
       "   census_msa    employment_industry employment_occupation  h1n1_concern  \n",
       " Min.   :1.000   Min.   : 1.00       Min.   : 1.00         Min.   :0.000  \n",
       " 1st Qu.:1.000   1st Qu.: 9.00       1st Qu.:11.00         1st Qu.:1.000  \n",
       " Median :2.000   Median :13.00       Median :20.00         Median :2.000  \n",
       " Mean   :1.833   Mean   :11.78       Mean   :16.33         Mean   :1.618  \n",
       " 3rd Qu.:3.000   3rd Qu.:13.00       3rd Qu.:20.00         3rd Qu.:2.000  \n",
       " Max.   :3.000   Max.   :21.00       Max.   :23.00         Max.   :3.000  \n",
       "                                                           NA's   :92     \n",
       " h1n1_knowledge  behavioral_antiviral_meds behavioral_avoidance\n",
       " Min.   :0.000   Min.   :0.00000           Min.   :0.0000      \n",
       " 1st Qu.:1.000   1st Qu.:0.00000           1st Qu.:0.0000      \n",
       " Median :1.000   Median :0.00000           Median :1.0000      \n",
       " Mean   :1.263   Mean   :0.04884           Mean   :0.7256      \n",
       " 3rd Qu.:2.000   3rd Qu.:0.00000           3rd Qu.:1.0000      \n",
       " Max.   :2.000   Max.   :1.00000           Max.   :1.0000      \n",
       " NA's   :116     NA's   :71                NA's   :208         \n",
       " behavioral_face_mask behavioral_wash_hands behavioral_large_gatherings\n",
       " Min.   :0.00000      Min.   :0.0000        Min.   :0.0000             \n",
       " 1st Qu.:0.00000      1st Qu.:1.0000        1st Qu.:0.0000             \n",
       " Median :0.00000      Median :1.0000        Median :0.0000             \n",
       " Mean   :0.06898      Mean   :0.8256        Mean   :0.3586             \n",
       " 3rd Qu.:0.00000      3rd Qu.:1.0000        3rd Qu.:1.0000             \n",
       " Max.   :1.00000      Max.   :1.0000        Max.   :1.0000             \n",
       " NA's   :19           NA's   :42            NA's   :87                 \n",
       " behavioral_outside_home behavioral_touch_face doctor_recc_h1n1\n",
       " Min.   :0.0000          Min.   :0.0000        Min.   :0.0000  \n",
       " 1st Qu.:0.0000          1st Qu.:0.0000        1st Qu.:0.0000  \n",
       " Median :0.0000          Median :1.0000        Median :0.0000  \n",
       " Mean   :0.3373          Mean   :0.6773        Mean   :0.2203  \n",
       " 3rd Qu.:1.0000          3rd Qu.:1.0000        3rd Qu.:0.0000  \n",
       " Max.   :1.0000          Max.   :1.0000        Max.   :1.0000  \n",
       " NA's   :82              NA's   :128           NA's   :2160    \n",
       " doctor_recc_seasonal chronic_med_condition child_under_6_months\n",
       " Min.   :0.0000       Min.   :0.0000        Min.   :0.0000      \n",
       " 1st Qu.:0.0000       1st Qu.:0.0000        1st Qu.:0.0000      \n",
       " Median :0.0000       Median :0.0000        Median :0.0000      \n",
       " Mean   :0.3297       Mean   :0.2833        Mean   :0.0826      \n",
       " 3rd Qu.:1.0000       3rd Qu.:1.0000        3rd Qu.:0.0000      \n",
       " Max.   :1.0000       Max.   :1.0000        Max.   :1.0000      \n",
       " NA's   :2160         NA's   :971           NA's   :820         \n",
       " health_worker    health_insurance opinion_h1n1_vacc_effective\n",
       " Min.   :0.0000   Min.   :0.00     Min.   :1.000              \n",
       " 1st Qu.:0.0000   1st Qu.:1.00     1st Qu.:3.000              \n",
       " Median :0.0000   Median :1.00     Median :4.000              \n",
       " Mean   :0.1119   Mean   :0.88     Mean   :3.851              \n",
       " 3rd Qu.:0.0000   3rd Qu.:1.00     3rd Qu.:5.000              \n",
       " Max.   :1.0000   Max.   :1.00     Max.   :5.000              \n",
       " NA's   :804      NA's   :12274    NA's   :391                \n",
       " opinion_h1n1_risk opinion_h1n1_sick_from_vacc opinion_seas_vacc_effective\n",
       " Min.   :1.000     Min.   :1.000               Min.   :1.000              \n",
       " 1st Qu.:1.000     1st Qu.:1.000               1st Qu.:4.000              \n",
       " Median :2.000     Median :2.000               Median :4.000              \n",
       " Mean   :2.343     Mean   :2.358               Mean   :4.026              \n",
       " 3rd Qu.:4.000     3rd Qu.:4.000               3rd Qu.:5.000              \n",
       " Max.   :5.000     Max.   :5.000               Max.   :5.000              \n",
       " NA's   :388       NA's   :395                 NA's   :462                \n",
       " opinion_seas_risk opinion_seas_sick_from_vacc household_adults\n",
       " Min.   :1.000     Min.   :1.000               Min.   :0.0000  \n",
       " 1st Qu.:2.000     1st Qu.:1.000               1st Qu.:0.0000  \n",
       " Median :2.000     Median :2.000               Median :1.0000  \n",
       " Mean   :2.719     Mean   :2.118               Mean   :0.8865  \n",
       " 3rd Qu.:4.000     3rd Qu.:4.000               3rd Qu.:1.0000  \n",
       " Max.   :5.000     Max.   :5.000               Max.   :3.0000  \n",
       " NA's   :514       NA's   :537                 NA's   :249     \n",
       " household_children  h1n1_vaccine    seasonal_vaccine\n",
       " Min.   :0.0000     Min.   :0.0000   Min.   :0.0000  \n",
       " 1st Qu.:0.0000     1st Qu.:0.0000   1st Qu.:0.0000  \n",
       " Median :0.0000     Median :0.0000   Median :0.0000  \n",
       " Mean   :0.5346     Mean   :0.2125   Mean   :0.4656  \n",
       " 3rd Qu.:1.0000     3rd Qu.:0.0000   3rd Qu.:1.0000  \n",
       " Max.   :3.0000     Max.   :1.0000   Max.   :1.0000  \n",
       " NA's   :249                                         "
      ]
     },
     "metadata": {},
     "output_type": "display_data"
    }
   ],
   "source": [
    "df <- sapply(dummy_df[,all_features], as.numeric)\n",
    "\n",
    "#Correlation matrix with Pearson method\n",
    "cormat <- round(cor(df, method='pearson', use='complete.obs'),2)\n",
    "\n",
    "\n",
    "#Put Correaltion matrix in a form suitable to build heatmap\n",
    "melted_cormat <- melt(cormat)\n",
    "\n",
    "\n",
    "summary(df)"
   ]
  },
  {
   "cell_type": "code",
   "execution_count": 8,
   "metadata": {
    "scrolled": true
   },
   "outputs": [],
   "source": [
    "#normalizing the data\n",
    "normalized_df <- df\n",
    "\n",
    "replace_na_with_mean_value<-function(vec) {\n",
    "    mean_vec<-mean(vec,na.rm=T)\n",
    "    vec[is.na(vec)]<-mean_vec\n",
    "    vec\n",
    "}\n",
    "\n",
    "for (col in not_category){\n",
    "  normalized_df[ , col][is.na(normalized_df[ , col])] <- mean(normalized_df[ , col], na.rm = TRUE)\n",
    "}\n",
    "\n",
    "\n",
    "for (col in all_features){\n",
    "  norm_factor=max(normalized_df[,col])\n",
    "  normalized_df[,col]<-round((normalized_df[,col])/norm_factor, digits=3)\n",
    "  \n",
    "}\n",
    "\n",
    "\n"
   ]
  },
  {
   "cell_type": "code",
   "execution_count": 11,
   "metadata": {},
   "outputs": [
    {
     "data": {
      "text/html": [
       "<style>\n",
       ".list-inline {list-style: none; margin:0; padding: 0}\n",
       ".list-inline>li {display: inline-block}\n",
       ".list-inline>li:not(:last-child)::after {content: \"\\00b7\"; padding: 0 .5ex}\n",
       "</style>\n",
       "<ol class=list-inline><li>'doctor_recc_h1n1'</li><li>'opinion_h1n1_vacc_effective'</li><li>'employment_occupation'</li><li>'health_worker'</li><li>'opinion_h1n1_risk'</li><li>'employment_industry'</li><li>'health_insurance'</li><li>'opinion_seas_risk'</li><li>'h1n1_knowledge'</li><li>'marital_status'</li><li>'doctor_recc_seasonal'</li><li>'sex'</li><li>'opinion_seas_vacc_effective'</li><li>'child_under_6_months'</li><li>'education'</li><li>'behavioral_face_mask'</li><li>'chronic_med_condition'</li><li>'race'</li><li>'rent_or_own'</li><li>'h1n1_concern'</li><li>'household_adults'</li><li>'behavioral_touch_face'</li><li>'age_group'</li><li>'household_children'</li><li>'behavioral_antiviral_meds'</li><li>'opinion_h1n1_sick_from_vacc'</li><li>'behavioral_wash_hands'</li><li>'income_poverty'</li><li>'hhs_geo_region'</li><li>'census_msa'</li><li>'behavioral_avoidance'</li><li>'employment_status'</li><li>'opinion_seas_sick_from_vacc'</li><li>'behavioral_outside_home'</li><li>'behavioral_large_gatherings'</li></ol>\n"
      ],
      "text/latex": [
       "\\begin{enumerate*}\n",
       "\\item 'doctor\\_recc\\_h1n1'\n",
       "\\item 'opinion\\_h1n1\\_vacc\\_effective'\n",
       "\\item 'employment\\_occupation'\n",
       "\\item 'health\\_worker'\n",
       "\\item 'opinion\\_h1n1\\_risk'\n",
       "\\item 'employment\\_industry'\n",
       "\\item 'health\\_insurance'\n",
       "\\item 'opinion\\_seas\\_risk'\n",
       "\\item 'h1n1\\_knowledge'\n",
       "\\item 'marital\\_status'\n",
       "\\item 'doctor\\_recc\\_seasonal'\n",
       "\\item 'sex'\n",
       "\\item 'opinion\\_seas\\_vacc\\_effective'\n",
       "\\item 'child\\_under\\_6\\_months'\n",
       "\\item 'education'\n",
       "\\item 'behavioral\\_face\\_mask'\n",
       "\\item 'chronic\\_med\\_condition'\n",
       "\\item 'race'\n",
       "\\item 'rent\\_or\\_own'\n",
       "\\item 'h1n1\\_concern'\n",
       "\\item 'household\\_adults'\n",
       "\\item 'behavioral\\_touch\\_face'\n",
       "\\item 'age\\_group'\n",
       "\\item 'household\\_children'\n",
       "\\item 'behavioral\\_antiviral\\_meds'\n",
       "\\item 'opinion\\_h1n1\\_sick\\_from\\_vacc'\n",
       "\\item 'behavioral\\_wash\\_hands'\n",
       "\\item 'income\\_poverty'\n",
       "\\item 'hhs\\_geo\\_region'\n",
       "\\item 'census\\_msa'\n",
       "\\item 'behavioral\\_avoidance'\n",
       "\\item 'employment\\_status'\n",
       "\\item 'opinion\\_seas\\_sick\\_from\\_vacc'\n",
       "\\item 'behavioral\\_outside\\_home'\n",
       "\\item 'behavioral\\_large\\_gatherings'\n",
       "\\end{enumerate*}\n"
      ],
      "text/markdown": [
       "1. 'doctor_recc_h1n1'\n",
       "2. 'opinion_h1n1_vacc_effective'\n",
       "3. 'employment_occupation'\n",
       "4. 'health_worker'\n",
       "5. 'opinion_h1n1_risk'\n",
       "6. 'employment_industry'\n",
       "7. 'health_insurance'\n",
       "8. 'opinion_seas_risk'\n",
       "9. 'h1n1_knowledge'\n",
       "10. 'marital_status'\n",
       "11. 'doctor_recc_seasonal'\n",
       "12. 'sex'\n",
       "13. 'opinion_seas_vacc_effective'\n",
       "14. 'child_under_6_months'\n",
       "15. 'education'\n",
       "16. 'behavioral_face_mask'\n",
       "17. 'chronic_med_condition'\n",
       "18. 'race'\n",
       "19. 'rent_or_own'\n",
       "20. 'h1n1_concern'\n",
       "21. 'household_adults'\n",
       "22. 'behavioral_touch_face'\n",
       "23. 'age_group'\n",
       "24. 'household_children'\n",
       "25. 'behavioral_antiviral_meds'\n",
       "26. 'opinion_h1n1_sick_from_vacc'\n",
       "27. 'behavioral_wash_hands'\n",
       "28. 'income_poverty'\n",
       "29. 'hhs_geo_region'\n",
       "30. 'census_msa'\n",
       "31. 'behavioral_avoidance'\n",
       "32. 'employment_status'\n",
       "33. 'opinion_seas_sick_from_vacc'\n",
       "34. 'behavioral_outside_home'\n",
       "35. 'behavioral_large_gatherings'\n",
       "\n",
       "\n"
      ],
      "text/plain": [
       " [1] \"doctor_recc_h1n1\"            \"opinion_h1n1_vacc_effective\"\n",
       " [3] \"employment_occupation\"       \"health_worker\"              \n",
       " [5] \"opinion_h1n1_risk\"           \"employment_industry\"        \n",
       " [7] \"health_insurance\"            \"opinion_seas_risk\"          \n",
       " [9] \"h1n1_knowledge\"              \"marital_status\"             \n",
       "[11] \"doctor_recc_seasonal\"        \"sex\"                        \n",
       "[13] \"opinion_seas_vacc_effective\" \"child_under_6_months\"       \n",
       "[15] \"education\"                   \"behavioral_face_mask\"       \n",
       "[17] \"chronic_med_condition\"       \"race\"                       \n",
       "[19] \"rent_or_own\"                 \"h1n1_concern\"               \n",
       "[21] \"household_adults\"            \"behavioral_touch_face\"      \n",
       "[23] \"age_group\"                   \"household_children\"         \n",
       "[25] \"behavioral_antiviral_meds\"   \"opinion_h1n1_sick_from_vacc\"\n",
       "[27] \"behavioral_wash_hands\"       \"income_poverty\"             \n",
       "[29] \"hhs_geo_region\"              \"census_msa\"                 \n",
       "[31] \"behavioral_avoidance\"        \"employment_status\"          \n",
       "[33] \"opinion_seas_sick_from_vacc\" \"behavioral_outside_home\"    \n",
       "[35] \"behavioral_large_gatherings\""
      ]
     },
     "metadata": {},
     "output_type": "display_data"
    }
   ],
   "source": [
    "#mrmr filter\n",
    "\n",
    "training_set <- read.csv(\"normalized_data.csv\")\n",
    "\n",
    "n <- ncol(training_set)\n",
    "n_var <- n-2\n",
    "input_variables <- training_set[,1:n_var]\n",
    "\n",
    "output_variable <- training_set[,\"h1n1_vaccine\"]\n",
    "\n",
    "correlation<-abs(cor(input_variables,output_variable))\n",
    "selected<-c()\n",
    "candidates<-1:n_var\n",
    "\n",
    "for (j in 1:n_var) {\n",
    "    redundancy_score<-numeric(length(candidates))\n",
    "        \n",
    "    if (length(selected)>0) {\n",
    "        # Compute the correlation between the selected variables and the candidates on the training set\n",
    "        cor_selected_candidates<-cor(training_set[,selected,drop=F],training_set[,candidates,drop=F])\n",
    "        # Compute the mean correlation for each candidate variable, across the selected variables\n",
    "        redundancy_score<-apply(cor_selected_candidates,2,mean)\n",
    "    }\n",
    "        \n",
    "    # mRMR: minimum Redundancy Maximum Relevancy\n",
    "    mRMR_score<-correlation[candidates]-redundancy_score\n",
    "        \n",
    "    \n",
    "    # Select the candidate variable that maximises the mRMR score\n",
    "    selected_current<-candidates[which.max(mRMR_score)]\n",
    "    selected<-c(selected,selected_current)\n",
    "    # Remove the selected variables from the candidates\n",
    "    candidates<-setdiff(candidates,selected_current)\n",
    "    \n",
    "\n",
    "}\n",
    "\n",
    "\n",
    "\n",
    "all_features[selected]\n",
    "\n",
    "\n"
   ]
  },
  {
   "cell_type": "markdown",
   "metadata": {},
   "source": [
    "## Missing value imputation"
   ]
  },
  {
   "cell_type": "markdown",
   "metadata": {},
   "source": [
    "## Feature engineering"
   ]
  },
  {
   "cell_type": "markdown",
   "metadata": {},
   "source": [
    "## Feature selection\n"
   ]
  },
  {
   "cell_type": "markdown",
   "metadata": {},
   "source": [
    "# Model selection\n",
    "\n",
    ],
   
   "text/latex": [
    "The packages to be used for the model selection and implementation are given. Here follow these eight packages along with a short description:\n",
    "\\begin{enumerate*}\n",
       "\\item 26707\n",
       "\\item 38\n",
       "\\end{enumerate*}\n",
    ],
   
   
    "source": [
    "## Model 1 - RandomForest\n",
    "\n",
    "## Model 2 - KNN\n",
    "\n",
    "## Model 3 - Neural network\n",
    "\n",
    "#### Example of simple equation\n",
    "\\begin{equation}\n",
    "e = mc^2\n",
    "\\end{equation}\n",
    "\n",
    "#### Example of matrix equation - Cross product formula:\n",
    "\n",
    "\\begin{equation*}\n",
    "\\mathbf{V}_1 \\times \\mathbf{V}_2 =  \\begin{vmatrix}\n",
    "\\mathbf{i} & \\mathbf{j} & \\mathbf{k} \\\\\n",
    "\\frac{\\partial X}{\\partial u} &  \\frac{\\partial Y}{\\partial u} & 0 \\\\\n",
    "\\frac{\\partial X}{\\partial v} &  \\frac{\\partial Y}{\\partial v} & 0\n",
    "\\end{vmatrix}\n",
    "\\end{equation*}\n",
    "\n",
    "#### Example of multiline equation - The Lorenz Equations:\n",
    "\n",
    "\\begin{align}\n",
    "\\dot{x} & = \\sigma(y-x) \\\\\n",
    "\\dot{y} & = \\rho x - y - xz \\\\\n",
    "\\dot{z} & = -\\beta z + xy\n",
    "\\end{align}\n",
    "\n",
    "#### Example of Markdown Table:\n",
    "\n",
    "| This | is   |\n",
    "|------|------|\n",
    "|   a  | table|\n"
   ]
  },
  {
   "cell_type": "markdown",
   "metadata": {},
   "source": [
    "# Alternative models\n",
    "\n",
    "\n",
    "\n"
   ]
  },
  {
   "cell_type": "markdown",
   "metadata": {},
   "source": [
    "# Conclusions"
   ]
  }
 ],
 "metadata": {
  "kernelspec": {
   "name": "ir",
   "language": "R",
   "display_name": "R"
  },
  "language_info": {
   "codemirror_mode": "r",
   "file_extension": ".r",
   "mimetype": "text/x-r-source",
   "name": "R",
   "pygments_lexer": "r",
   "version": "4.1.3"
  }
 },
 "nbformat": 4,
 "nbformat_minor": 4
}
