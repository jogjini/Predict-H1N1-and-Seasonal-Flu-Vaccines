{
 "cells": [
  {
   "cell_type": "markdown",
   "metadata": {},
   "source": [
    "# INFO-F-422 -  Statistical Foundations of Machine Learning \n",
    "\n",
    "### Student 1 - __[student1@ulb.ac.be](mailto:student1@ulb.ac.be) - Student ID 123456__\n",
    "### Student 2 - __[student2@vub.ac.be](mailto:student2@ulb.ac.be) - Student ID 789012__\n",
    "### Student 3 - __[student3@ulb.ac.be](mailto:student3@ulb.ac.be) - Student ID 345678__\n",
    "\n",
    "### Video presentation: www.youtube.com/abcd1234\n",
    "\n",
    "## Project Title\n"
   ]
  },
  {
   "cell_type": "markdown",
   "metadata": {},
   "source": [
    "# Introduction\n"
   ]
  },
  {
   "cell_type": "markdown",
   "metadata": {},
   "source": [
    "# 1. Data preprocessing\n",
    "\n",
    "\n",
    "### 1.1 Loading the data"
   ]
  },
  {
   "cell_type": "code",
   "execution_count": null,
   "metadata": {
    "pycharm": {
     "name": "#%%\n"
    }
   },
   "outputs": [],
   "source": [
    "library(fastDummies)\n",
    "library(reshape2)\n",
    "library(dplyr)\n",
    "library(tibble)\n",
    "library(ggplot2)\n",
    "\n",
    "test_set=read.csv(\"test_set_features.csv\",header=TRUE)                \n",
    "training_label=read.csv(\"training_set_labels.csv\",header=TRUE)\n",
    "training_feature=read.csv(\"training_set_features.csv\",header=TRUE)  \n",
    "\n",
    "submission=read.csv(\"submission_format.csv\",header = TRUE)\n",
    "\n",
    "feature_df<-dplyr::tibble(training_feature)\n",
    "labels_df<-dplyr::tibble(training_label)\n",
    "training_df<-dplyr::inner_join(feature_df,labels_df)"
   ]
  },
  {
   "cell_type": "markdown",
   "metadata": {
    "pycharm": {
     "name": "#%% md\n"
    }
   },
   "source": [
    "Checking the data"
   ]
  },
  {
   "cell_type": "code",
   "execution_count": null,
   "metadata": {},
   "outputs": [],
   "source": [
    "dim(training_df)\n",
    "summary(training_df)"
   ]
  },
  {
   "cell_type": "markdown",
   "metadata": {
    "pycharm": {
     "name": "#%% md\n"
    }
   },
   "source": [
    "Our training set is composed of 20707 rows and 38 variables (37 without id).\n"
   ]
  },
  {
   "cell_type": "code",
   "execution_count": null,
   "metadata": {
    "pycharm": {
     "name": "#%%\n"
    }
   },
   "outputs": [],
   "source": [
    "category_list=c()\n",
    "for (feature in colnames(training_df)){\n",
    "  if (typeof(training_df[feature][[1]])==\"character\"){\n",
    "    category_list<-c(category_list,feature)\n",
    "  }\n",
    "}\n",
    "category_list\n",
    "dummy_df<-fastDummies::dummy_cols(training_df)\n",
    "no_category_df<-select(dummy_df,!category_list)\n",
    "n\n",
    "Replace NaN value for integer feature with the mean of the feature\n",
    "replace_na_with_mean_value<-function(vec) {\n",
    "  mean_vec<-mean(vec,na.rm=T)\n",
    "  vec[is.na(vec)]<-mean_vec\n",
    "  vec\n",
    "}\n",
    "df_preprocessed<-data.frame(apply(no_category_df,2,replace_na_with_mean_value))\n",
    "for (feature in colnames(df_preprocessed)){\n",
    "  print(unique(df_preprocessed[feature]))\n",
    "}\n",
    "#Preprocessed dataframe\n",
    "df_preprocessed\n",
    "\n",
    "#Correlation matrix with Pearson method\n",
    "cormat <- round(cor(df_preprocessed, method='pearson'),2)\n",
    "\n",
    "#Put Correaltion matrix in a form suitable to build heatmap\n",
    "melted_cormat <- melt(cormat)\n",
    "\n",
    "#Heatmap\n",
    "pearson_heatmap<-ggplot(data = melted_cormat, aes(x=Var1, y=Var2, fill=value)) + \n",
    "  geom_tile()\n",
    "pearson_heatmap\n",
    "\n",
    "#Check for highly correlated value (>0.8)\n",
    "high_correl_variable<-dplyr::filter(melted_cormat,abs(value)>0.8)\n",
    "high_correl_variable<-dplyr::filter(high_correl_variable,Var1!=Var2)\n",
    "high_correl_variable\n",
    "When two feature are highly correlated we could keep only one of the two <- only old character field are concerned \n",
    "droped_variable<-c('education_','sex_Female','marital_status_','marital_status_Not.Married','rent_or_own_Own','employment_occupation_','employment_occupation_dcjcmpih','employment_industry_','employment_status_Employed')\n",
    "first_selection_df<-dplyr::select(df_preprocessed,-droped_variable)\n",
    "\n",
    "#Rebuild new Heatmap after feature suppression\n",
    "cormat <- round(cor(first_selection_df, method='pearson'),2)\n",
    "melted_cormat <- melt(cormat)\n",
    "pearson_heatmap<-ggplot(data = melted_cormat, aes(x=Var1, y=Var2, fill=value)) + \n",
    "  geom_tile()\n",
    "pearson_heatmap\n",
    "\n",
    "#LDA -> NN\n",
    "\n",
    "#Start of the LDA algorithm to select feature\n",
    "\n",
    "\n",
    "#Normalization of the feature to [0,1]\n",
    "first_selection_df<-dplyr::select(first_selection_df,-c('h1n1_vaccine','seasonal_vaccine'))\n",
    "\n",
    "for (feature in colnames(first_selection_df)){\n",
    "  if (feature!='respondent_id'){\n",
    "  norm_factor=max(first_selection_df[feature])\n",
    "  first_selection_df[feature]<-(first_selection_df[feature])/norm_factor\n",
    "  }\n",
    "}\n",
    "first_selection_df\n",
    "\n",
    "#Get the mean of each feature to be able to center the data\n",
    "mean_vector<-apply(dplyr::select(first_selection_df,-'respondent_id'),2,mean)\n",
    "mean_vector\n",
    "\n",
    "#Center the data\n",
    "centered_df<-sweep(dplyr::select(first_selection_df,-'respondent_id'),MARGIN = 2,STATS = mean_vector,FUN = '-')\n",
    "centered_df['respondent_id']<-first_selection_df['respondent_id']\n",
    "\n",
    "#Check that it is indeed centered\n",
    "mean_centered<-apply(centered_df,2,mean)\n",
    "mean_centered \n",
    "\n",
    "#Bringing the labels back in the picture\n",
    "h1n1_centered<-dplyr::inner_join(centered_df,df_preprocessed[c('respondent_id','h1n1_vaccine')])\n",
    "seasonal_centered<-dplyr::inner_join(centered_df,df_preprocessed[c('respondent_id','seasonal_vaccine')])\n",
    "\n",
    "#Get the mean when grouping with respect to label value (=mean per category) :\n",
    "h1n1_col_means_class<-h1n1_centered%>% group_by(h1n1_vaccine)%>% summarise(across(.cols = everything(), .fns = mean))\n",
    "seasonal_col_means_class<-seasonal_centered%>% group_by(seasonal_vaccine)%>% summarise(across(.cols = everything(), .fns = mean))\n",
    "\n",
    "#To pursue"
   ]
  },
  {
   "cell_type": "markdown",
   "metadata": {},
   "source": [
    "## Missing value imputation"
   ]
  },
  {
   "cell_type": "markdown",
   "metadata": {},
   "source": [
    "## Feature engineering"
   ]
  },
  {
   "cell_type": "markdown",
   "metadata": {},
   "source": [
    "## Feature selection\n"
   ]
  },
  {
   "cell_type": "markdown",
   "metadata": {},
   "source": [
    "# Model selection\n",
    "\n",
    "## Model 1\n",
    "\n",
    "## Model 2\n",
    "\n",
    "## Model 3\n",
    "\n",
    "#### Example of simple equation\n",
    "\\begin{equation}\n",
    "e = mc^2\n",
    "\\end{equation}\n",
    "\n",
    "#### Example of matrix equation - Cross product formula:\n",
    "\n",
    "\\begin{equation*}\n",
    "\\mathbf{V}_1 \\times \\mathbf{V}_2 =  \\begin{vmatrix}\n",
    "\\mathbf{i} & \\mathbf{j} & \\mathbf{k} \\\\\n",
    "\\frac{\\partial X}{\\partial u} &  \\frac{\\partial Y}{\\partial u} & 0 \\\\\n",
    "\\frac{\\partial X}{\\partial v} &  \\frac{\\partial Y}{\\partial v} & 0\n",
    "\\end{vmatrix}\n",
    "\\end{equation*}\n",
    "\n",
    "#### Example of multiline equation - The Lorenz Equations:\n",
    "\n",
    "\\begin{align}\n",
    "\\dot{x} & = \\sigma(y-x) \\\\\n",
    "\\dot{y} & = \\rho x - y - xz \\\\\n",
    "\\dot{z} & = -\\beta z + xy\n",
    "\\end{align}\n",
    "\n",
    "#### Example of Markdown Table:\n",
    "\n",
    "| This | is   |\n",
    "|------|------|\n",
    "|   a  | table|\n"
   ]
  },
  {
   "cell_type": "markdown",
   "metadata": {},
   "source": [
    "# Alternative models\n",
    "\n",
    "\n",
    "\n"
   ]
  },
  {
   "cell_type": "markdown",
   "metadata": {},
   "source": [
    "# Conclusions"
   ]
  }
 ],
 "metadata": {
  "kernelspec": {
   "display_name": "R",
   "language": "R",
   "name": "ir"
  },
  "language_info": {
   "codemirror_mode": "r",
   "file_extension": ".r",
   "mimetype": "text/x-r-source",
   "name": "R",
   "pygments_lexer": "r",
   "version": "4.1.3"
  }
 },
 "nbformat": 4,
 "nbformat_minor": 4
}