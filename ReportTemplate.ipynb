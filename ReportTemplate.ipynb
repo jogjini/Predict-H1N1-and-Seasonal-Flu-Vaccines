{
 "cells": [
  {
   "cell_type": "markdown",
   "metadata": {},
   "source": [
    "# INFO-F-422 -  Statistical Foundations of Machine Learning \n",
    "\n",
    "### Student 1 - __[student1@ulb.ac.be](mailto:student1@ulb.ac.be) - Student ID 123456__\n",
    "### Student 2 - __[student2@vub.ac.be](mailto:student2@ulb.ac.be) - Student ID 789012__\n",
    "### Student 3 - __[student3@ulb.ac.be](mailto:student3@ulb.ac.be) - Student ID 345678__\n",
    "\n",
    "### Video presentation: www.youtube.com/abcd1234\n",
    "\n",
    "## Project Title\n"
   ]
  },
  {
   "cell_type": "markdown",
   "metadata": {},
   "source": [
    "# Introduction\n"
   ]
  },
  {
   "cell_type": "markdown",
   "metadata": {},
   "source": [
    "# 1. Data preprocessing\n",
    "\n",
    "\n",
    "### 1.1 Loading the data"
   ]
  },
  {
   "cell_type": "code",
   "execution_count": null,
   "metadata": {
    "pycharm": {
     "name": "#%%\n"
    }
   },
   "outputs": [],
   "source": [
    "library(fastDummies)\n",
    "library(reshape2)\n",
    "library(dplyr)\n",
    "library(tibble)\n",
    "library(ggplot2)\n",
    "library(tidyr)\n",
    "\n",
    "\n",
    "test_set=read.csv(\"test_set_features.csv\",header=TRUE)                \n",
    "training_label=read.csv(\"training_set_labels.csv\",header=TRUE)\n",
    "training_feature=read.csv(\"training_set_features.csv\",header=TRUE)  \n",
    "\n",
    "submission=read.csv(\"submission_format.csv\",header = TRUE)\n",
    "\n",
    "feature_df<-dplyr::tibble(training_feature)\n",
    "labels_df<-dplyr::tibble(training_label)\n",
    "training_df<-dplyr::inner_join(feature_df,labels_df)"
   ]
  },
  {
   "cell_type": "markdown",
   "metadata": {
    "pycharm": {
     "name": "#%% md\n"
    }
   },
   "source": [
    "Checking the data"
   ]
  },
  {
   "cell_type": "code",
   "execution_count": null,
   "metadata": {},
   "outputs": [],
   "source": [
    "dim(training_df)\n",
    "#summary(training_df)\n"
   ]
  },
  {
   "cell_type": "markdown",
   "metadata": {
    "pycharm": {
     "name": "#%% md\n"
    }
   },
   "source": [
    "Our training set is composed of 20707 rows and 38 variables (37 without id).\n"
   ]
  },
  {
   "cell_type": "code",
   "execution_count": 255,
   "metadata": {},
   "outputs": [],
   "source": [
    "category_list=c()\n",
    "not_category=c()\n",
    "for (feature in colnames(training_df)){\n",
    "  if (typeof(training_df[feature][[1]])==\"character\"){\n",
    "    category_list<-c(category_list,feature)\n",
    "  }\n",
    "  else{\n",
    "    not_category<-c(not_category, feature)  \n",
    "  }    \n",
    "}\n",
    "\n",
    "not_category <- not_category[not_category!=\"respondent_id\"]\n",
    "all_features=c(category_list, not_category)\n",
    "\n",
    "dummy_df <- training_df\n",
    "\n",
    "#all_features"
   ]
  },
  {
   "cell_type": "code",
   "execution_count": 256,
   "metadata": {},
   "outputs": [],
   "source": [
    "\n",
    "#replace empty strings by NA\n",
    "\n",
    "for (col in category_list){\n",
    "    dummy_df[,col][dummy_df[,col] == \"\"] <- NA\n",
    "}\n",
    "\n",
    "Mode <- function(x){\n",
    "  #convert NA to most common value\n",
    "  distinct_value <- unique(x[!is.na(x)])\n",
    "\n",
    "  distinct_value[which.max(tabulate(match(x, distinct_value)))]\n",
    "}\n",
    "\n",
    "\n",
    "\n"
   ]
  },
  {
   "cell_type": "code",
   "execution_count": null,
   "metadata": {
    "pycharm": {
     "name": "#%%\n"
    }
   },
   "outputs": [],
   "source": [
    "#convert categorical to numerical\n",
    "for (c in category_list){\n",
    "    \n",
    "    dummy_df[[c]] <- unclass(factor(dummy_df[[c]]))\n",
    "}\n",
    "\n",
    "for (col in category_list){\n",
    "    dummy_df[,col][is.na(dummy_df[,col])] <- Mode(dummy_df[,col])\n",
    "}\n",
    "\n",
    "\n",
    "\n",
    "head(dummy_df)\n",
    "\n"
   ]
  },
  {
   "cell_type": "code",
   "execution_count": null,
   "metadata": {},
   "outputs": [],
   "source": [
    "df <- sapply(dummy_df[,all_features], as.numeric)\n",
    "\n",
    "#Correlation matrix with Pearson method\n",
    "cormat <- round(cor(df, method='pearson', use='complete.obs'),2)\n",
    "\n",
    "\n",
    "#Put Correaltion matrix in a form suitable to build heatmap\n",
    "melted_cormat <- melt(cormat)\n",
    "\n",
    "\n",
    "summary(df)"
   ]
  },
  {
   "cell_type": "code",
   "execution_count": 273,
   "metadata": {
    "scrolled": true
   },
   "outputs": [],
   "source": [
    "#normalizing the data\n",
    "normalized_df <- df\n",
    "\n",
    "replace_na_with_mean_value<-function(vec) {\n",
    "    mean_vec<-mean(vec,na.rm=T)\n",
    "    vec[is.na(vec)]<-mean_vec\n",
    "    vec\n",
    "}\n",
    "\n",
    "for (col in not_category){\n",
    "  normalized_df[ , col][is.na(normalized_df[ , col])] <- mean(normalized_df[ , col], na.rm = TRUE)\n",
    "}\n",
    "\n",
    "\n",
    "for (col in all_features){\n",
    "  norm_factor=max(normalized_df[,col])\n",
    "  normalized_df[,col]<-round((normalized_df[,col])/norm_factor, digits=3)\n",
    "  \n",
    "}\n",
    "\n",
    "\n"
   ]
  },
  {
   "cell_type": "code",
   "execution_count": 317,
   "metadata": {},
   "outputs": [
    {
     "data": {
      "text/html": [
       "<style>\n",
       ".list-inline {list-style: none; margin:0; padding: 0}\n",
       ".list-inline>li {display: inline-block}\n",
       ".list-inline>li:not(:last-child)::after {content: \"\\00b7\"; padding: 0 .5ex}\n",
       "</style>\n",
       "<ol class=list-inline><li>'doctor_recc_h1n1'</li><li>'opinion_h1n1_vacc_effective'</li><li>'employment_occupation'</li><li>'health_worker'</li><li>'opinion_h1n1_risk'</li><li>'employment_industry'</li><li>'health_insurance'</li><li>'opinion_seas_risk'</li><li>'h1n1_knowledge'</li><li>'marital_status'</li><li>'doctor_recc_seasonal'</li><li>'sex'</li><li>'opinion_seas_vacc_effective'</li><li>'child_under_6_months'</li><li>'education'</li><li>'behavioral_face_mask'</li><li>'chronic_med_condition'</li><li>'race'</li><li>'rent_or_own'</li><li>'h1n1_concern'</li><li>'household_adults'</li><li>'behavioral_touch_face'</li><li>'age_group'</li><li>'household_children'</li><li>'behavioral_antiviral_meds'</li><li>'opinion_h1n1_sick_from_vacc'</li><li>'behavioral_wash_hands'</li><li>'income_poverty'</li><li>'hhs_geo_region'</li><li>'census_msa'</li><li>'behavioral_avoidance'</li><li>'employment_status'</li><li>'opinion_seas_sick_from_vacc'</li><li>'behavioral_outside_home'</li><li>'behavioral_large_gatherings'</li></ol>\n"
      ],
      "text/latex": [
       "\\begin{enumerate*}\n",
       "\\item 'doctor\\_recc\\_h1n1'\n",
       "\\item 'opinion\\_h1n1\\_vacc\\_effective'\n",
       "\\item 'employment\\_occupation'\n",
       "\\item 'health\\_worker'\n",
       "\\item 'opinion\\_h1n1\\_risk'\n",
       "\\item 'employment\\_industry'\n",
       "\\item 'health\\_insurance'\n",
       "\\item 'opinion\\_seas\\_risk'\n",
       "\\item 'h1n1\\_knowledge'\n",
       "\\item 'marital\\_status'\n",
       "\\item 'doctor\\_recc\\_seasonal'\n",
       "\\item 'sex'\n",
       "\\item 'opinion\\_seas\\_vacc\\_effective'\n",
       "\\item 'child\\_under\\_6\\_months'\n",
       "\\item 'education'\n",
       "\\item 'behavioral\\_face\\_mask'\n",
       "\\item 'chronic\\_med\\_condition'\n",
       "\\item 'race'\n",
       "\\item 'rent\\_or\\_own'\n",
       "\\item 'h1n1\\_concern'\n",
       "\\item 'household\\_adults'\n",
       "\\item 'behavioral\\_touch\\_face'\n",
       "\\item 'age\\_group'\n",
       "\\item 'household\\_children'\n",
       "\\item 'behavioral\\_antiviral\\_meds'\n",
       "\\item 'opinion\\_h1n1\\_sick\\_from\\_vacc'\n",
       "\\item 'behavioral\\_wash\\_hands'\n",
       "\\item 'income\\_poverty'\n",
       "\\item 'hhs\\_geo\\_region'\n",
       "\\item 'census\\_msa'\n",
       "\\item 'behavioral\\_avoidance'\n",
       "\\item 'employment\\_status'\n",
       "\\item 'opinion\\_seas\\_sick\\_from\\_vacc'\n",
       "\\item 'behavioral\\_outside\\_home'\n",
       "\\item 'behavioral\\_large\\_gatherings'\n",
       "\\end{enumerate*}\n"
      ],
      "text/markdown": [
       "1. 'doctor_recc_h1n1'\n",
       "2. 'opinion_h1n1_vacc_effective'\n",
       "3. 'employment_occupation'\n",
       "4. 'health_worker'\n",
       "5. 'opinion_h1n1_risk'\n",
       "6. 'employment_industry'\n",
       "7. 'health_insurance'\n",
       "8. 'opinion_seas_risk'\n",
       "9. 'h1n1_knowledge'\n",
       "10. 'marital_status'\n",
       "11. 'doctor_recc_seasonal'\n",
       "12. 'sex'\n",
       "13. 'opinion_seas_vacc_effective'\n",
       "14. 'child_under_6_months'\n",
       "15. 'education'\n",
       "16. 'behavioral_face_mask'\n",
       "17. 'chronic_med_condition'\n",
       "18. 'race'\n",
       "19. 'rent_or_own'\n",
       "20. 'h1n1_concern'\n",
       "21. 'household_adults'\n",
       "22. 'behavioral_touch_face'\n",
       "23. 'age_group'\n",
       "24. 'household_children'\n",
       "25. 'behavioral_antiviral_meds'\n",
       "26. 'opinion_h1n1_sick_from_vacc'\n",
       "27. 'behavioral_wash_hands'\n",
       "28. 'income_poverty'\n",
       "29. 'hhs_geo_region'\n",
       "30. 'census_msa'\n",
       "31. 'behavioral_avoidance'\n",
       "32. 'employment_status'\n",
       "33. 'opinion_seas_sick_from_vacc'\n",
       "34. 'behavioral_outside_home'\n",
       "35. 'behavioral_large_gatherings'\n",
       "\n",
       "\n"
      ],
      "text/plain": [
       " [1] \"doctor_recc_h1n1\"            \"opinion_h1n1_vacc_effective\"\n",
       " [3] \"employment_occupation\"       \"health_worker\"              \n",
       " [5] \"opinion_h1n1_risk\"           \"employment_industry\"        \n",
       " [7] \"health_insurance\"            \"opinion_seas_risk\"          \n",
       " [9] \"h1n1_knowledge\"              \"marital_status\"             \n",
       "[11] \"doctor_recc_seasonal\"        \"sex\"                        \n",
       "[13] \"opinion_seas_vacc_effective\" \"child_under_6_months\"       \n",
       "[15] \"education\"                   \"behavioral_face_mask\"       \n",
       "[17] \"chronic_med_condition\"       \"race\"                       \n",
       "[19] \"rent_or_own\"                 \"h1n1_concern\"               \n",
       "[21] \"household_adults\"            \"behavioral_touch_face\"      \n",
       "[23] \"age_group\"                   \"household_children\"         \n",
       "[25] \"behavioral_antiviral_meds\"   \"opinion_h1n1_sick_from_vacc\"\n",
       "[27] \"behavioral_wash_hands\"       \"income_poverty\"             \n",
       "[29] \"hhs_geo_region\"              \"census_msa\"                 \n",
       "[31] \"behavioral_avoidance\"        \"employment_status\"          \n",
       "[33] \"opinion_seas_sick_from_vacc\" \"behavioral_outside_home\"    \n",
       "[35] \"behavioral_large_gatherings\""
      ]
     },
     "metadata": {},
     "output_type": "display_data"
    }
   ],
   "source": [
    "#mrmr filter\n",
    "\n",
    "training_set <- read.csv(\"normalized_data.csv\")\n",
    "\n",
    "n <- ncol(training_set)\n",
    "n_var <- n-2\n",
    "input_variables <- training_set[,1:n_var]\n",
    "\n",
    "output_variable <- training_set[,\"h1n1_vaccine\"]\n",
    "\n",
    "correlation<-abs(cor(input_variables,output_variable))\n",
    "selected<-c()\n",
    "candidates<-1:n_var\n",
    "\n",
    "for (j in 1:n_var) {\n",
    "    redundancy_score<-numeric(length(candidates))\n",
    "        \n",
    "    if (length(selected)>0) {\n",
    "        # Compute the correlation between the selected variables and the candidates on the training set\n",
    "        cor_selected_candidates<-cor(training_set_vars[,selected,drop=F],training_set_vars[,candidates,drop=F])\n",
    "        # Compute the mean correlation for each candidate variable, across the selected variables\n",
    "        redundancy_score<-apply(cor_selected_candidates,2,mean)\n",
    "    }\n",
    "        \n",
    "    # mRMR: minimum Redundancy Maximum Relevancy\n",
    "    mRMR_score<-correlation[candidates]-redundancy_score\n",
    "        \n",
    "    \n",
    "    # Select the candidate variable that maximises the mRMR score\n",
    "    selected_current<-candidates[which.max(mRMR_score)]\n",
    "    selected<-c(selected,selected_current)\n",
    "    # Remove the selected variables from the candidates\n",
    "    candidates<-setdiff(candidates,selected_current)\n",
    "    \n",
    "\n",
    "}\n",
    "\n",
    "\n",
    "\n",
    "all_features[selected]\n",
    "\n",
    "\n"
   ]
  },
  {
   "cell_type": "markdown",
   "metadata": {},
   "source": [
    "## Missing value imputation"
   ]
  },
  {
   "cell_type": "markdown",
   "metadata": {},
   "source": [
    "## Feature engineering"
   ]
  },
  {
   "cell_type": "markdown",
   "metadata": {},
   "source": [
    "## Feature selection\n"
   ]
  },
  {
   "cell_type": "markdown",
   "metadata": {},
   "source": [
    "# Model selection\n",
    "\n",
    "## Model 1\n",
    "\n",
    "## Model 2\n",
    "\n",
    "## Model 3\n",
    "\n",
    "#### Example of simple equation\n",
    "\\begin{equation}\n",
    "e = mc^2\n",
    "\\end{equation}\n",
    "\n",
    "#### Example of matrix equation - Cross product formula:\n",
    "\n",
    "\\begin{equation*}\n",
    "\\mathbf{V}_1 \\times \\mathbf{V}_2 =  \\begin{vmatrix}\n",
    "\\mathbf{i} & \\mathbf{j} & \\mathbf{k} \\\\\n",
    "\\frac{\\partial X}{\\partial u} &  \\frac{\\partial Y}{\\partial u} & 0 \\\\\n",
    "\\frac{\\partial X}{\\partial v} &  \\frac{\\partial Y}{\\partial v} & 0\n",
    "\\end{vmatrix}\n",
    "\\end{equation*}\n",
    "\n",
    "#### Example of multiline equation - The Lorenz Equations:\n",
    "\n",
    "\\begin{align}\n",
    "\\dot{x} & = \\sigma(y-x) \\\\\n",
    "\\dot{y} & = \\rho x - y - xz \\\\\n",
    "\\dot{z} & = -\\beta z + xy\n",
    "\\end{align}\n",
    "\n",
    "#### Example of Markdown Table:\n",
    "\n",
    "| This | is   |\n",
    "|------|------|\n",
    "|   a  | table|\n"
   ]
  },
  {
   "cell_type": "markdown",
   "metadata": {},
   "source": [
    "# Alternative models\n",
    "\n",
    "\n",
    "\n"
   ]
  },
  {
   "cell_type": "markdown",
   "metadata": {},
   "source": [
    "# Conclusions"
   ]
  }
 ],
 "metadata": {
  "kernelspec": {
   "display_name": "R",
   "language": "R",
   "name": "ir"
  },
  "language_info": {
   "codemirror_mode": "r",
   "file_extension": ".r",
   "mimetype": "text/x-r-source",
   "name": "R",
   "pygments_lexer": "r",
   "version": "4.1.3"
  }
 },
 "nbformat": 4,
 "nbformat_minor": 4
}